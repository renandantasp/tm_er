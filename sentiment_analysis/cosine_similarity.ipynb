{
 "cells": [
  {
   "cell_type": "markdown",
   "id": "answering-extension",
   "metadata": {},
   "source": [
    "## ***Similaridade por Cosseno***\n",
    "-----\n",
    "1. Coletar os dados filtrados (remoção de *stopwords* e lematização);\n",
    "\n",
    "2. Utilizar a bibliotéca [scikit-learn](https://scikit-learn.org/stable/) para;\n",
    "\n",
    "    2.1. Calcular o TF-IDF (*Term Frequency - Inverse Document Frequency*);\n",
    "    \n",
    "    2.2. Utilizar a matriz TF-IDF para calcular a similaridade por cosseno de todo o *corpus*;\n",
    "    \n",
    "    2.3. Salvar isso em matrizes esparsas."
   ]
  },
  {
   "cell_type": "code",
   "execution_count": 1,
   "id": "chinese-participation",
   "metadata": {},
   "outputs": [],
   "source": [
    "import pandas as pd\n",
    "import numpy as np\n",
    "from sklearn.feature_extraction.text import TfidfVectorizer\n",
    "path = \"../files/\""
   ]
  },
  {
   "cell_type": "code",
   "execution_count": 2,
   "id": "contained-mauritius",
   "metadata": {},
   "outputs": [],
   "source": [
    "#Leitura do dataset filtrado\n",
    "df = pd.read_csv( path + \"4mula_filtered.csv\" )\n",
    "#Coleta do corpus filtado\n",
    "corpus = df['filtered_lyrics'].tolist()\n",
    "#Cálculo do TF-IDF\n",
    "tf_idf = TfidfVectorizer(dtype=np.float32).fit_transform(corpus)"
   ]
  },
  {
   "cell_type": "code",
   "execution_count": null,
   "id": "impressive-domestic",
   "metadata": {},
   "outputs": [],
   "source": [
    "from sklearn.metrics.pairwise import cosine_similarity\n",
    "from scipy.sparse import save_npz, load_npz"
   ]
  },
  {
   "cell_type": "code",
   "execution_count": 3,
   "id": "permanent-system",
   "metadata": {},
   "outputs": [
    {
     "name": "stdout",
     "output_type": "stream",
     "text": [
      "3\n"
     ]
    }
   ],
   "source": [
    "#Batch sendo a quantidade de músicas dentro de cada arquivo\n",
    "batch = 10000\n",
    "filename = 'cosine_similarity/cos_sim'\n",
    "for i in range(4):\n",
    "    #csim - Uma Matriz esparsa comparando 10000 músicas (a cada arquivo) com todas do corpus\n",
    "    csim = cosine_similarity(tf_idf[i*batch:(i+1)*batch],tf_idf,dense_output=False)\n",
    "    save_npz(filename + str(i+1) + '.npz',csim)\n",
    "#Último arquivo 'cos_sim5.npz' guarda as ultimas 10572 músicas restantes\n",
    "csim = cosine_similarity(tf_idf[40000:],tf_idf,dense_output=False)\n",
    "save_npz(filename + '5.npz',csim)"
   ]
  }
 ],
 "metadata": {
  "kernelspec": {
   "display_name": "Python 3",
   "language": "python",
   "name": "python3"
  },
  "language_info": {
   "codemirror_mode": {
    "name": "ipython",
    "version": 3
   },
   "file_extension": ".py",
   "mimetype": "text/x-python",
   "name": "python",
   "nbconvert_exporter": "python",
   "pygments_lexer": "ipython3",
   "version": "3.8.5"
  }
 },
 "nbformat": 4,
 "nbformat_minor": 5
}
