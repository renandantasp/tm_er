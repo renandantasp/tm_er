{
 "cells": [
  {
   "cell_type": "markdown",
   "id": "answering-extension",
   "metadata": {},
   "source": [
    "## ***Similaridade por Cosseno***\n",
    "-----\n",
    "1. Coletar os dados filtrados (remoção de *stopwords* e lematização);\n",
    "\n",
    "2. Utilizar a bibliotéca [scikit-learn](https://scikit-learn.org/stable/) para;\n",
    "\n",
    "    2.1. Calcular o TF-IDF (*Term Frequency - Inverse Document Frequency*);\n",
    "    \n",
    "    2.2. Utilizar a matriz TF-IDF para calcular a similaridade por cosseno de todo o *corpus*;\n",
    "    \n",
    "    2.3. Salvar isso em matrizes esparsas."
   ]
  },
  {
   "cell_type": "code",
   "execution_count": 1,
   "id": "chinese-participation",
   "metadata": {},
   "outputs": [],
   "source": [
    "import pandas as pd\n",
    "import numpy as np\n",
    "from sklearn.feature_extraction.text import TfidfVectorizer\n",
    "path = \"../files/\""
   ]
  },
  {
   "cell_type": "code",
   "execution_count": 2,
   "id": "contained-mauritius",
   "metadata": {},
   "outputs": [],
   "source": [
    "#Leitura do dataset filtrado\n",
    "df = pd.read_csv( path + \"4mula_filtered.csv\" )\n",
    "#Coleta do corpus filtado\n",
    "corpus = df['filtered_lyrics'].tolist()\n",
    "#Cálculo do TF-IDF\n",
    "tf_idf = TfidfVectorizer(dtype=np.float32).fit_transform(corpus)"
   ]
  },
  {
   "cell_type": "code",
   "execution_count": 3,
   "id": "impressive-domestic",
   "metadata": {},
   "outputs": [],
   "source": [
    "from sklearn.metrics.pairwise import cosine_similarity, cosine_distances\n",
    "from scipy.sparse import save_npz, load_npz"
   ]
  },
  {
   "cell_type": "code",
   "execution_count": 4,
   "id": "entire-secondary",
   "metadata": {},
   "outputs": [
    {
     "data": {
      "text/plain": [
       "array([[0.9499519 , 0.96211743, 0.9919661 , ..., 0.9590817 , 0.9753546 ,\n",
       "        0.9887944 ],\n",
       "       [0.986088  , 0.9960411 , 0.9953269 , ..., 0.9896847 , 0.99907315,\n",
       "        0.99564767],\n",
       "       [0.93211913, 0.99105173, 0.9936808 , ..., 0.95230395, 0.94131005,\n",
       "        0.98791575],\n",
       "       ...,\n",
       "       [0.9341086 , 0.8698274 , 0.9865911 , ..., 0.98258054, 0.9975869 ,\n",
       "        0.99957114],\n",
       "       [0.9866721 , 0.9958477 , 0.99064714, ..., 0.98028594, 0.9934933 ,\n",
       "        0.99101317],\n",
       "       [0.95879036, 0.9969    , 0.9969902 , ..., 0.92280996, 0.9912351 ,\n",
       "        1.        ]], dtype=float32)"
      ]
     },
     "execution_count": 4,
     "metadata": {},
     "output_type": "execute_result"
    }
   ],
   "source": [
    "#Batch sendo a quantidade de músicas dentro de cada arquivo\n",
    "batch = 5000\n",
    "filename = 'cosine_similarity/cos_dist'\n",
    "for i in range(9):\n",
    "    #csim - Uma Matriz esparsa comparando 10000 músicas (a cada arquivo) com todas do corpus\n",
    "    csim = cosine_distances(tf_idf,tf_idf[i*batch:(i+1)*batch]) #,dense_output=False)\n",
    "    #save_npz(filename + str(i+1) + '.npz',csim)\n",
    "#Último arquivo 'cos_sim5.npz' guarda as ultimas 10572 músicas restantes\n",
    "csim\n",
    "#csim = cosine_similarity(tf_idf[45000:],tf_idf,dense_output=False)\n",
    "#save_npz(filename + '10.npz',csim)"
   ]
  },
  {
   "cell_type": "code",
   "execution_count": 12,
   "id": "sticky-collaboration",
   "metadata": {},
   "outputs": [
    {
     "data": {
      "text/plain": [
       "{False, True}"
      ]
     },
     "execution_count": 12,
     "metadata": {},
     "output_type": "execute_result"
    }
   ],
   "source": [
    "print(csim[:,0] >=1)"
   ]
  },
  {
   "cell_type": "code",
   "execution_count": 5,
   "id": "permanent-system",
   "metadata": {},
   "outputs": [
    {
     "ename": "AttributeError",
     "evalue": "'numpy.ndarray' object has no attribute 'format'",
     "output_type": "error",
     "traceback": [
      "\u001b[0;31m---------------------------------------------------------------------------\u001b[0m",
      "\u001b[0;31mAttributeError\u001b[0m                            Traceback (most recent call last)",
      "\u001b[0;32m<ipython-input-5-e03be28488bf>\u001b[0m in \u001b[0;36m<module>\u001b[0;34m\u001b[0m\n\u001b[1;32m      5\u001b[0m     \u001b[0;31m#csim - Uma Matriz esparsa comparando 10000 músicas (a cada arquivo) com todas do corpus\u001b[0m\u001b[0;34m\u001b[0m\u001b[0;34m\u001b[0m\u001b[0;34m\u001b[0m\u001b[0m\n\u001b[1;32m      6\u001b[0m     \u001b[0mcsim\u001b[0m \u001b[0;34m=\u001b[0m \u001b[0mcosine_distances\u001b[0m\u001b[0;34m(\u001b[0m\u001b[0mtf_idf\u001b[0m\u001b[0;34m[\u001b[0m\u001b[0mi\u001b[0m\u001b[0;34m*\u001b[0m\u001b[0mbatch\u001b[0m\u001b[0;34m:\u001b[0m\u001b[0;34m(\u001b[0m\u001b[0mi\u001b[0m\u001b[0;34m+\u001b[0m\u001b[0;36m1\u001b[0m\u001b[0;34m)\u001b[0m\u001b[0;34m*\u001b[0m\u001b[0mbatch\u001b[0m\u001b[0;34m]\u001b[0m\u001b[0;34m,\u001b[0m\u001b[0mtf_idf\u001b[0m\u001b[0;34m)\u001b[0m \u001b[0;31m#,dense_output=False)\u001b[0m\u001b[0;34m\u001b[0m\u001b[0;34m\u001b[0m\u001b[0m\n\u001b[0;32m----> 7\u001b[0;31m     \u001b[0msave_npz\u001b[0m\u001b[0;34m(\u001b[0m\u001b[0mfilename\u001b[0m \u001b[0;34m+\u001b[0m \u001b[0mstr\u001b[0m\u001b[0;34m(\u001b[0m\u001b[0mi\u001b[0m\u001b[0;34m+\u001b[0m\u001b[0;36m1\u001b[0m\u001b[0;34m)\u001b[0m \u001b[0;34m+\u001b[0m \u001b[0;34m'.npz'\u001b[0m\u001b[0;34m,\u001b[0m\u001b[0mcsim\u001b[0m\u001b[0;34m)\u001b[0m\u001b[0;34m\u001b[0m\u001b[0;34m\u001b[0m\u001b[0m\n\u001b[0m\u001b[1;32m      8\u001b[0m \u001b[0;31m#Último arquivo 'cos_sim5.npz' guarda as ultimas 10572 músicas restantes\u001b[0m\u001b[0;34m\u001b[0m\u001b[0;34m\u001b[0m\u001b[0;34m\u001b[0m\u001b[0m\n\u001b[1;32m      9\u001b[0m \u001b[0mcsim\u001b[0m \u001b[0;34m=\u001b[0m \u001b[0mcosine_similarity\u001b[0m\u001b[0;34m(\u001b[0m\u001b[0mtf_idf\u001b[0m\u001b[0;34m[\u001b[0m\u001b[0;36m45000\u001b[0m\u001b[0;34m:\u001b[0m\u001b[0;34m]\u001b[0m\u001b[0;34m,\u001b[0m\u001b[0mtf_idf\u001b[0m\u001b[0;34m,\u001b[0m\u001b[0mdense_output\u001b[0m\u001b[0;34m=\u001b[0m\u001b[0;32mFalse\u001b[0m\u001b[0;34m)\u001b[0m\u001b[0;34m\u001b[0m\u001b[0;34m\u001b[0m\u001b[0m\n",
      "\u001b[0;32m~/.local/lib/python3.8/site-packages/scipy/sparse/_matrix_io.py\u001b[0m in \u001b[0;36msave_npz\u001b[0;34m(file, matrix, compressed)\u001b[0m\n\u001b[1;32m     54\u001b[0m     \"\"\"\n\u001b[1;32m     55\u001b[0m     \u001b[0marrays_dict\u001b[0m \u001b[0;34m=\u001b[0m \u001b[0;34m{\u001b[0m\u001b[0;34m}\u001b[0m\u001b[0;34m\u001b[0m\u001b[0;34m\u001b[0m\u001b[0m\n\u001b[0;32m---> 56\u001b[0;31m     \u001b[0;32mif\u001b[0m \u001b[0mmatrix\u001b[0m\u001b[0;34m.\u001b[0m\u001b[0mformat\u001b[0m \u001b[0;32min\u001b[0m \u001b[0;34m(\u001b[0m\u001b[0;34m'csc'\u001b[0m\u001b[0;34m,\u001b[0m \u001b[0;34m'csr'\u001b[0m\u001b[0;34m,\u001b[0m \u001b[0;34m'bsr'\u001b[0m\u001b[0;34m)\u001b[0m\u001b[0;34m:\u001b[0m\u001b[0;34m\u001b[0m\u001b[0;34m\u001b[0m\u001b[0m\n\u001b[0m\u001b[1;32m     57\u001b[0m         \u001b[0marrays_dict\u001b[0m\u001b[0;34m.\u001b[0m\u001b[0mupdate\u001b[0m\u001b[0;34m(\u001b[0m\u001b[0mindices\u001b[0m\u001b[0;34m=\u001b[0m\u001b[0mmatrix\u001b[0m\u001b[0;34m.\u001b[0m\u001b[0mindices\u001b[0m\u001b[0;34m,\u001b[0m \u001b[0mindptr\u001b[0m\u001b[0;34m=\u001b[0m\u001b[0mmatrix\u001b[0m\u001b[0;34m.\u001b[0m\u001b[0mindptr\u001b[0m\u001b[0;34m)\u001b[0m\u001b[0;34m\u001b[0m\u001b[0;34m\u001b[0m\u001b[0m\n\u001b[1;32m     58\u001b[0m     \u001b[0;32melif\u001b[0m \u001b[0mmatrix\u001b[0m\u001b[0;34m.\u001b[0m\u001b[0mformat\u001b[0m \u001b[0;34m==\u001b[0m \u001b[0;34m'dia'\u001b[0m\u001b[0;34m:\u001b[0m\u001b[0;34m\u001b[0m\u001b[0;34m\u001b[0m\u001b[0m\n",
      "\u001b[0;31mAttributeError\u001b[0m: 'numpy.ndarray' object has no attribute 'format'"
     ]
    }
   ],
   "source": [
    "#Batch sendo a quantidade de músicas dentro de cada arquivo\n",
    "batch = 10000\n",
    "filename = 'cosine_similarity/cos_sim'\n",
    "for i in range(4):\n",
    "    #csim - Uma Matriz esparsa comparando 10000 músicas (a cada arquivo) com todas do corpus\n",
    "    csim = cosine_similarity(tf_idf[i*batch:(i+1)*batch],tf_idf,dense_output=False)\n",
    "    save_npz(filename + str(i+1) + '.npz',csim)\n",
    "#Último arquivo 'cos_sim5.npz' guarda as ultimas 10572 músicas restantes\n",
    "csim = cosine_similarity(tf_idf[40000:],tf_idf,dense_output=False)\n",
    "save_npz(filename + '5.npz',csim)"
   ]
  },
  {
   "cell_type": "code",
   "execution_count": null,
   "id": "simplified-street",
   "metadata": {},
   "outputs": [],
   "source": []
  }
 ],
 "metadata": {
  "kernelspec": {
   "display_name": "Python 3",
   "language": "python",
   "name": "python3"
  },
  "language_info": {
   "codemirror_mode": {
    "name": "ipython",
    "version": 3
   },
   "file_extension": ".py",
   "mimetype": "text/x-python",
   "name": "python",
   "nbconvert_exporter": "python",
   "pygments_lexer": "ipython3",
   "version": "3.8.10"
  }
 },
 "nbformat": 4,
 "nbformat_minor": 5
}
