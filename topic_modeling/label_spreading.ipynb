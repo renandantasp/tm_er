{
 "cells": [
  {
   "cell_type": "code",
   "execution_count": 1,
   "id": "ea5a6815",
   "metadata": {},
   "outputs": [],
   "source": [
    "import pandas as pd\n",
    "import numpy as np\n",
    "from sklearn.feature_extraction.text import TfidfVectorizer\n",
    "from sklearn.metrics.pairwise import cosine_similarity, cosine_distances\n",
    "from sklearn.semi_supervised import LabelSpreading\n",
    "from sklearn.datasets import make_circles\n",
    "path = '../files/'"
   ]
  },
  {
   "cell_type": "code",
   "execution_count": 10,
   "id": "b15d91b6",
   "metadata": {
    "scrolled": true
   },
   "outputs": [],
   "source": [
    "#Coleta do dataset filtrado\n",
    "df = pd.read_csv( path + \"4mula_filtered.csv\" )\n",
    "#Coleta dos rótulos\n",
    "df_label = pd.read_csv( path + 'labels.csv')\n",
    "labels = df_label.iloc[:,2]\n",
    "#combinação do dataset com os rótulos\n",
    "df = df.join(labels)\n",
    "sm_df = df.iloc[:2004]\n",
    "\n",
    "label = {k: v for (k, v) in zip(set(df_label.iloc[:1002,2]),np.linspace(1,21,21,dtype=int))}\n",
    "\n",
    "x = np.full(len(df),-1)\n",
    "x[:1002] = [label[i] for i in list(sm_df.iloc[:1002,4])]\n",
    "x=pd.DataFrame(x,columns=['label_value'])\n",
    "df = df.join(x)"
   ]
  },
  {
   "cell_type": "code",
   "execution_count": 3,
   "id": "d6420f4f",
   "metadata": {},
   "outputs": [
    {
     "data": {
      "text/plain": [
       "0        7\n",
       "1        9\n",
       "2       16\n",
       "3       16\n",
       "4       17\n",
       "        ..\n",
       "997      1\n",
       "998     12\n",
       "999      1\n",
       "1000    11\n",
       "1001     3\n",
       "Name: label_value, Length: 1002, dtype: int64"
      ]
     },
     "execution_count": 3,
     "metadata": {},
     "output_type": "execute_result"
    }
   ],
   "source": [
    "df.iloc[:1002,5]"
   ]
  },
  {
   "cell_type": "code",
   "execution_count": 6,
   "id": "977ab0f1",
   "metadata": {},
   "outputs": [],
   "source": [
    "#title = [(art + ' - ' + name) for art, name in zip(df['art_name'],df['music_name']) ]\n",
    "\n",
    "#corpus = sm_df.iloc[:,3]\n",
    "#vectorizer = TfidfVectorizer(max_features = 8000)\n",
    "#tf_idf = TfidfVectorizer(dtype=np.float32).fit_transform(corpus)\n",
    "\n",
    "# generate ring with inner box\n",
    "n_samples = 2004\n",
    "X, y = make_circles(n_samples=n_samples, shuffle=False)\n",
    "spr_labels = np.full(n_samples, -1.)\n",
    "spr_labels[:1002] = list(df.iloc[:1002,5])\n",
    "\n",
    "# #############################################################################\n",
    "# Learn with LabelSpreading\n",
    "label_spread = LabelSpreading()\n",
    "label_spread.fit(X, spr_labels)\n",
    "output_labels = label_spread.transduction_"
   ]
  },
  {
   "cell_type": "code",
   "execution_count": 9,
   "id": "e5bea62d",
   "metadata": {},
   "outputs": [
    {
     "data": {
      "text/plain": [
       "2004"
      ]
     },
     "execution_count": 9,
     "metadata": {},
     "output_type": "execute_result"
    }
   ],
   "source": [
    "len(output_labels)"
   ]
  },
  {
   "cell_type": "code",
   "execution_count": null,
   "id": "422892d2",
   "metadata": {},
   "outputs": [],
   "source": [
    "import numpy as np\n",
    "import matplotlib.pyplot as plt\n",
    "from sklearn.semi_supervised import LabelSpreading\n",
    "from sklearn.datasets import make_circles\n",
    "\n",
    "# generate ring with inner box\n",
    "n_samples = 200\n",
    "X, y = make_circles(n_samples=n_samples, shuffle=False)\n",
    "outer, inner = 0, 1\n",
    "labels = np.full(n_samples, -1.)\n",
    "labels[0] = outer\n",
    "labels[-1] = inner\n",
    "\n",
    "# #############################################################################\n",
    "# Learn with LabelSpreading\n",
    "label_spread = LabelSpreading()\n",
    "label_spread.fit(X, labels)\n",
    "\n",
    "# #############################################################################\n",
    "# Plot output labels\n",
    "output_labels = label_spread.transduction_\n",
    "plt.figure(figsize=(8.5, 4))\n",
    "plt.subplot(1, 2, 1)\n",
    "plt.scatter(X[labels == outer, 0], X[labels == outer, 1], color='navy',\n",
    "            marker='s', lw=0, label=\"outer labeled\", s=10)\n",
    "plt.scatter(X[labels == inner, 0], X[labels == inner, 1], color='c',\n",
    "            marker='s', lw=0, label='inner labeled', s=10)\n",
    "plt.scatter(X[labels == -1, 0], X[labels == -1, 1], color='darkorange',\n",
    "            marker='.', label='unlabeled')\n",
    "plt.legend(scatterpoints=1, shadow=False, loc='upper right')\n",
    "plt.title(\"Raw data (2 classes=outer and inner)\")\n",
    "\n",
    "plt.subplot(1, 2, 2)\n",
    "output_label_array = np.asarray(output_labels)\n",
    "outer_numbers = np.where(output_label_array == outer)[0]\n",
    "inner_numbers = np.where(output_label_array == inner)[0]\n",
    "plt.scatter(X[outer_numbers, 0], X[outer_numbers, 1], color='navy',\n",
    "            marker='s', lw=0, s=10, label=\"outer learned\")\n",
    "plt.scatter(X[inner_numbers, 0], X[inner_numbers, 1], color='c',\n",
    "            marker='s', lw=0, s=10, label=\"inner learned\")\n",
    "plt.legend(scatterpoints=1, shadow=False, loc='upper right')\n",
    "plt.title(\"Labels learned with Label Spreading (KNN)\")\n",
    "\n",
    "plt.subplots_adjust(left=0.07, bottom=0.07, right=0.93, top=0.92)\n",
    "plt.show()"
   ]
  },
  {
   "cell_type": "code",
   "execution_count": null,
   "id": "f2f4928a",
   "metadata": {},
   "outputs": [],
   "source": []
  },
  {
   "cell_type": "code",
   "execution_count": null,
   "id": "cbb538e5",
   "metadata": {},
   "outputs": [],
   "source": [
    "np.linspace(1,21,21,dtype=int)"
   ]
  },
  {
   "cell_type": "code",
   "execution_count": null,
   "id": "af6a1615",
   "metadata": {},
   "outputs": [],
   "source": [
    "set(df_label.iloc[:1000,2])"
   ]
  },
  {
   "cell_type": "code",
   "execution_count": null,
   "id": "3516ed51",
   "metadata": {},
   "outputs": [],
   "source": []
  }
 ],
 "metadata": {
  "kernelspec": {
   "display_name": "Python 3",
   "language": "python",
   "name": "python3"
  },
  "language_info": {
   "codemirror_mode": {
    "name": "ipython",
    "version": 3
   },
   "file_extension": ".py",
   "mimetype": "text/x-python",
   "name": "python",
   "nbconvert_exporter": "python",
   "pygments_lexer": "ipython3",
   "version": "3.8.5"
  }
 },
 "nbformat": 4,
 "nbformat_minor": 5
}
