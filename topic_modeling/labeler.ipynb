{
 "cells": [
  {
   "cell_type": "code",
   "execution_count": null,
   "id": "e0338ec6",
   "metadata": {},
   "outputs": [],
   "source": [
    "import pandas as pd\n",
    "import numpy as np\n",
    "path = \"../files/\""
   ]
  },
  {
   "cell_type": "code",
   "execution_count": null,
   "id": "ed4089e9",
   "metadata": {},
   "outputs": [],
   "source": [
    "#Leitura do dataset filtrado\n",
    "df = pd.read_parquet( path + \"4mula_metadata.parquet\" )\n",
    "m = df[df['music_lang'] == 'pt-br']\n",
    "m = m.reset_index(drop=True)"
   ]
  },
  {
   "cell_type": "code",
   "execution_count": null,
   "id": "b1dc8e42",
   "metadata": {},
   "outputs": [],
   "source": [
    "labels = pd.read_csv( path + \"labels.csv\" )"
   ]
  },
  {
   "cell_type": "code",
   "execution_count": null,
   "id": "cd9509c0",
   "metadata": {},
   "outputs": [],
   "source": [
    "i = 1000\n",
    "print(m.iloc[i,5] + ' - ' + m.iloc[i,1] + '\\n')\n",
    "print(m.iloc[i,3].replace('\\\\n','\\n'))"
   ]
  },
  {
   "cell_type": "code",
   "execution_count": null,
   "id": "ca538848",
   "metadata": {},
   "outputs": [],
   "source": [
    "labels.at[i,['label']] = ''"
   ]
  },
  {
   "cell_type": "code",
   "execution_count": null,
   "id": "c7001956",
   "metadata": {},
   "outputs": [],
   "source": [
    "idx = 5\n",
    "labels.iloc[1+(20*idx):21+(20*idx)]"
   ]
  },
  {
   "cell_type": "code",
   "execution_count": null,
   "id": "59ec3d5a",
   "metadata": {},
   "outputs": [],
   "source": [
    "labels.to_csv(path + 'labels.csv',index=False)"
   ]
  }
 ],
 "metadata": {
  "kernelspec": {
   "display_name": "Python 3",
   "language": "python",
   "name": "python3"
  },
  "language_info": {
   "codemirror_mode": {
    "name": "ipython",
    "version": 3
   },
   "file_extension": ".py",
   "mimetype": "text/x-python",
   "name": "python",
   "nbconvert_exporter": "python",
   "pygments_lexer": "ipython3",
   "version": "3.8.5"
  }
 },
 "nbformat": 4,
 "nbformat_minor": 5
}
